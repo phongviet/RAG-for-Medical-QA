{
 "cells": [
  {
   "cell_type": "code",
   "execution_count": 6,
   "id": "initial_id",
   "metadata": {
    "ExecuteTime": {
     "end_time": "2025-06-09T15:17:40.814989Z",
     "start_time": "2025-06-09T15:17:40.807861Z"
    },
    "collapsed": true,
    "jupyter": {
     "outputs_hidden": true
    }
   },
   "outputs": [],
   "source": [
    "# Import các thư viện\n",
    "import os\n",
    "import json\n",
    "import faiss\n",
    "import torch\n",
    "import re\n",
    "from sentence_transformers import SentenceTransformer\n",
    "from transformers import AutoModelForCausalLM, AutoTokenizer\n"
   ]
  },
  {
   "cell_type": "code",
   "execution_count": 7,
   "id": "c29b5024ddebc4a",
   "metadata": {
    "ExecuteTime": {
     "end_time": "2025-06-09T15:17:52.078086Z",
     "start_time": "2025-06-09T15:17:44.029871Z"
    }
   },
   "outputs": [
    {
     "name": "stdout",
     "output_type": "stream",
     "text": [
      "Loaded FAISS index with 16402 vectors\n"
     ]
    }
   ],
   "source": [
    "index_dir = \"data/faiss_index\"\n",
    "\n",
    "# Load mapping và documents\n",
    "with open(os.path.join(index_dir, \"documents.json\"), \"r\") as f:\n",
    "    documents = json.load(f)\n",
    "with open(os.path.join(index_dir, \"qa_mapping.json\"), \"r\") as f:\n",
    "    qa_mapping = json.load(f)\n",
    "\n",
    "# Load FAISS index\n",
    "index = faiss.read_index(os.path.join(index_dir, \"qa_index.faiss\"))\n",
    "print(f\"Loaded FAISS index with {index.ntotal} vectors\")\n",
    "\n",
    "# Load encoder và LLM\n",
    "encoder_name = \"all-MiniLM-L6-v2\"\n",
    "model_name = \"Qwen/Qwen2.5-0.5B-Instruct\"\n",
    "encoder = SentenceTransformer(encoder_name)\n",
    "tokenizer = AutoTokenizer.from_pretrained(model_name)\n",
    "model = AutoModelForCausalLM.from_pretrained(\n",
    "    model_name,\n",
    "    torch_dtype=torch.float16,\n",
    "    device_map=\"auto\"\n",
    ")\n"
   ]
  },
  {
   "cell_type": "code",
   "execution_count": 10,
   "id": "3dbda35b5046f55d",
   "metadata": {
    "ExecuteTime": {
     "end_time": "2025-06-09T15:21:27.447838Z",
     "start_time": "2025-06-09T15:21:21.118048Z"
    }
   },
   "outputs": [
    {
     "data": {
      "text/plain": [
       "'What is Cancer?'"
      ]
     },
     "execution_count": 10,
     "metadata": {},
     "output_type": "execute_result"
    }
   ],
   "source": [
    "query = input(\"Enter your medical question: \")\n",
    "query"
   ]
  },
  {
   "cell_type": "code",
   "execution_count": 20,
   "id": "e647b8d918191ebb",
   "metadata": {
    "ExecuteTime": {
     "end_time": "2025-06-09T15:38:01.932447Z",
     "start_time": "2025-06-09T15:38:01.912033Z"
    }
   },
   "outputs": [
    {
     "data": {
      "text/plain": [
       "(1, 384)"
      ]
     },
     "execution_count": 20,
     "metadata": {},
     "output_type": "execute_result"
    }
   ],
   "source": [
    "# Mã hóa câu hỏi thành vector\n",
    "query_embedding = encoder.encode([query], convert_to_tensor=True)\n",
    "query_embedding_np = query_embedding.cpu().numpy()\n",
    "query_embedding_np.shape"
   ]
  },
  {
   "cell_type": "code",
   "execution_count": 13,
   "id": "4ac771bbacb4264b",
   "metadata": {
    "ExecuteTime": {
     "end_time": "2025-06-09T15:22:38.699915Z",
     "start_time": "2025-06-09T15:22:38.686798Z"
    }
   },
   "outputs": [
    {
     "name": "stdout",
     "output_type": "stream",
     "text": [
      "Index các câu hỏi gần nhất: [11683 11686 15542]\n",
      "Khoảng cách tương ứng: [0.52529407 0.70474774 0.7257796 ]\n"
     ]
    }
   ],
   "source": [
    "# Tìm kiếm trong Database k vector câu hỏi có Euclid-Distance gần nhất với vector câu hỏi từ người dùng.\n",
    "top_k = 3\n",
    "distances, indices = index.search(query_embedding_np, top_k)\n",
    "print(\"Index các câu hỏi gần nhất:\", indices[0])\n",
    "print(\"Khoảng cách tương ứng:\", distances[0])"
   ]
  },
  {
   "cell_type": "code",
   "id": "ac34cc5d-ff86-49f9-96d9-78ab9264fa44",
   "metadata": {
    "ExecuteTime": {
     "end_time": "2025-06-09T15:52:07.532012Z",
     "start_time": "2025-06-09T15:52:07.522081Z"
    }
   },
   "source": [
    "#Ánh xạ k câu hỏi tới k tài liệu tương ứng\n",
    "retrieved_docs = [documents[idx] for idx in indices[0]]\n",
    "retrieved_answers = [qa_mapping[idx][\"completion\"] for idx in indices[0]]\n",
    "retrieved_info = list(zip(retrieved_docs, distances[0], retrieved_answers))\n",
    "\n",
    "print(\"Retrieved Information:\")\n",
    "for i, (doc, dist, ans) in enumerate(retrieved_info):\n",
    "    print(f\"Reference {i + 1}:\\n{doc}\\n\\nAnswer: {ans}\\n\")"
   ],
   "outputs": [
    {
     "name": "stdout",
     "output_type": "stream",
     "text": [
      "Retrieved Information:\n",
      "Reference 1:\n",
      "Topic: Cancer\n",
      "\n",
      "Question: What is (are) Cancer ?\n",
      "\n",
      "Answer: Cancer begins in your cells, which are the building blocks of your body. Normally, your body forms new cells as you need them, replacing old cells that die. Sometimes this process goes wrong. New cells grow even when you don't need them, and old cells don't die when they should. These extra cells can form a mass called a tumor. Tumors can be benign or malignant. Benign tumors aren't cancer while malignant ones are. Cells from malignant tumors can invade nearby tissues. They can also break away and spread to other parts of the body.     Cancer is not just one disease but many diseases. There are more than 100 different types of cancer. Most cancers are named for where they start. For example, lung cancer starts in the lung, and breast cancer starts in the breast. The spread of cancer from one part of the body to another is called metastasis. Symptoms and treatment depend on the cancer type and how advanced it is. Most treatment plans may include surgery, radiation and/or chemotherapy. Some may involve hormone therapy, biologic therapy, or stem cell transplantation.     NIH: National Cancer Institute\n",
      "\n",
      "Reference 2:\n",
      "Topic: Cancer in Children\n",
      "\n",
      "Question: What is (are) Cancer in Children ?\n",
      "\n",
      "Answer: Cancer begins in the cells, which are the building blocks of your body. Normally, new cells form as you need them, replacing old cells that die. Sometimes, this process goes wrong. New cells form when you don't need them, and old cells don't die when they should. The extra cells can form a tumor. Benign tumors aren't cancer while malignant ones are. Malignant tumor cells can invade nearby tissues or break away and spread to other parts of the body.     Children can get cancer in the same parts of the body as adults, but there are differences. Childhood cancers can occur suddenly, without early symptoms, and have a high rate of cure. The most common children's cancer is leukemia. Other cancers that affect children include brain tumors, lymphoma, and soft tissue sarcoma. Symptoms and treatment depend on the cancer type and how advanced it is. Treatment may include surgery, radiation and/or chemotherapy.     NIH: National Cancer Institute\n",
      "\n",
      "Reference 3:\n",
      "Topic: Surviving Cancer\n",
      "\n",
      "Question: What is (are) Surviving Cancer ?\n",
      "\n",
      "Answer: Follow-up cancer care involves regular medical checkups that include a review of your medical history and a physical exam. Follow-up care may include blood work and other lab tests and procedures that allow the doctor to examine or take pictures of areas inside the body.  See more resources and information about follow-up care after treatment, including guidelines.\n",
      "\n"
     ]
    }
   ],
   "execution_count": 21
  },
  {
   "cell_type": "code",
   "execution_count": 14,
   "id": "5411bc1ca5882dfe",
   "metadata": {
    "ExecuteTime": {
     "end_time": "2025-06-09T15:22:58.443370Z",
     "start_time": "2025-06-09T15:22:58.428277Z"
    }
   },
   "outputs": [
    {
     "data": {
      "text/plain": [
       "'You are a highly knowledgeable medical assistant providing accurate and professional information to healthcare professionals.\\nUse the reference information below to answer the medical question comprehensively.\\n\\nReference Information:\\nReference 1 on Cancer:\\nCancer begins in your cells, which are the building blocks of your body. Normally, your body forms new cells as you need them, replacing old cells that die. Sometimes this process goes wrong. New cells grow even when you don\\'t need them, and old cells don\\'t die when they should. These extra cells can form a mass called a tumor. Tumors can be benign or malignant. Benign tumors aren\\'t cancer while malignant ones are. Cells from malignant tumors can invade nearby tissues. They can also break away and spread to other parts of the body.     Cancer is not just one disease but many diseases. There are more than 100 different types of cancer. Most cancers are named for where they start. For example, lung cancer starts in the lung, and breast cancer starts in the breast. The spread of cancer from one part of the body to another is called metastasis. Symptoms and treatment depend on the cancer type and how advanced it is. Most treatment plans may include surgery, radiation and/or chemotherapy. Some may involve hormone therapy, biologic therapy, or stem cell transplantation.     NIH: National Cancer Institute\\n\\nReference 2 on Cancer in Children:\\nCancer begins in the cells, which are the building blocks of your body. Normally, new cells form as you need them, replacing old cells that die. Sometimes, this process goes wrong. New cells form when you don\\'t need them, and old cells don\\'t die when they should. The extra cells can form a tumor. Benign tumors aren\\'t cancer while malignant ones are. Malignant tumor cells can invade nearby tissues or break away and spread to other parts of the body.     Children can get cancer in the same parts of the body as adults, but there are differences. Childhood cancers can occur suddenly, without early symptoms, and have a high rate of cure. The most common children\\'s cancer is leukemia. Other cancers that affect children include brain tumors, lymphoma, and soft tissue sarcoma. Symptoms and treatment depend on the cancer type and how advanced it is. Treatment may include surgery, radiation and/or chemotherapy.     NIH: National Cancer Institute\\n\\nReference 3 on Surviving Cancer:\\nFollow-up cancer care involves regular medical checkups that include a review of your medical history and a physical exam. Follow-up care may include blood work and other lab tests and procedures that allow the doctor to examine or take pictures of areas inside the body.  See more resources and information about follow-up care after treatment, including guidelines.\\n\\nQuestion: What is Cancer?\\n\\nInstructions:\\n1. Provide a clear, concise, and well-organized medical answer.\\n2. Use appropriate medical terminology and maintain a professional tone.\\n3. Base your answer strictly on the provided reference information.\\n4. Do not include any citation numbers, references, or footnote markers (e.g., [1], [2], etc.) under any circumstances.\\n5. Do not mention the references explicitly in your answer.\\n6. Avoid adding phrases like \\'End of Medical Answer\\' or similar concluding statements.\\n\\nRemember: Do not include any citation numbers, references, or footnote markers in your answer. Only use plain text.\\n\\nAlways conclude your answer with this exact disclaimer:\\n\"Please consult with a qualified healthcare professional for accurate diagnosis and personalized medical advice.\"\\n\\nAnswer:'"
      ]
     },
     "execution_count": 14,
     "metadata": {},
     "output_type": "execute_result"
    }
   ],
   "source": [
    "#Tạo prompt\n",
    "context_parts = []\n",
    "for i, (doc, dist, ans) in enumerate(retrieved_info):\n",
    "    topic_part = doc.split(\"\\n\\n\")[0].replace(\"Topic: \", \"\")\n",
    "    context_parts.append(f\"Reference {i + 1} on {topic_part}:\\n{ans}\")\n",
    "\n",
    "context_str = \"\\n\\n\".join(context_parts)\n",
    "prompt = f\"\"\"You are a highly knowledgeable medical assistant providing accurate and professional information to healthcare professionals.\n",
    "Use the reference information below to answer the medical question comprehensively.\n",
    "\n",
    "Reference Information:\n",
    "{context_str}\n",
    "\n",
    "Question: {query}\n",
    "\n",
    "Instructions:\n",
    "1. Provide a clear, concise, and well-organized medical answer.\n",
    "2. Use appropriate medical terminology and maintain a professional tone.\n",
    "3. Base your answer strictly on the provided reference information.\n",
    "4. Do not include any citation numbers, references, or footnote markers (e.g., [1], [2], etc.) under any circumstances.\n",
    "5. Do not mention the references explicitly in your answer.\n",
    "6. Avoid adding phrases like 'End of Medical Answer' or similar concluding statements.\n",
    "\n",
    "Remember: Do not include any citation numbers, references, or footnote markers in your answer. Only use plain text.\n",
    "\n",
    "Always conclude your answer with this exact disclaimer:\n",
    "\"Please consult with a qualified healthcare professional for accurate diagnosis and personalized medical advice.\"\n",
    "\n",
    "Answer:\"\"\"\n",
    "prompt"
   ]
  },
  {
   "cell_type": "code",
   "execution_count": 18,
   "id": "df6e1a7c2d31e2b4",
   "metadata": {
    "ExecuteTime": {
     "end_time": "2025-06-09T15:26:11.129752Z",
     "start_time": "2025-06-09T15:26:11.117690Z"
    }
   },
   "outputs": [
    {
     "data": {
      "text/plain": [
       "torch.Size([1, 702])"
      ]
     },
     "execution_count": 18,
     "metadata": {},
     "output_type": "execute_result"
    }
   ],
   "source": [
    "#Tokenize prompt\n",
    "inputs = tokenizer(prompt, return_tensors=\"pt\").to(model.device)\n",
    "inputs.input_ids.shape"
   ]
  },
  {
   "cell_type": "code",
   "execution_count": 19,
   "id": "7be6bb569e2a66b2",
   "metadata": {
    "ExecuteTime": {
     "end_time": "2025-06-09T15:29:46.177649Z",
     "start_time": "2025-06-09T15:29:16.949631Z"
    }
   },
   "outputs": [
    {
     "name": "stdout",
     "output_type": "stream",
     "text": [
      "\n",
      "Answer:\n",
      " Cancer is a disease characterized by abnormal growth and division of cells in the body. It begins in the cells, which are the basic units of life. Normal cells continue to divide and replace damaged cells throughout their lives. However, if these processes go wrong, abnormal cells begin to form and grow uncontrollably. This can lead to various conditions such as tumors, which can be either benign or malignant. Benign tumors do not spread to other parts of the body, whereas malignant tumors can spread to other parts of the body and cause serious health problems. The main difference between childhood and adult cancers is that childhood cancers often appear suddenly and have higher rates of cure compared to adults. Symptoms and treatments vary depending on the specific type of cancer. Regular follow-up care is essential to monitor progress and manage potential complications. Consultation with a qualified healthcare professional is recommended for comprehensive evaluation and personalized medical advice.\n"
     ]
    }
   ],
   "source": [
    "with torch.no_grad():\n",
    "    outputs = model.generate(\n",
    "        **inputs,\n",
    "        max_new_tokens=512,\n",
    "        temperature=0.3,\n",
    "        do_sample=True,\n",
    "        top_p=0.85,\n",
    "        num_return_sequences=1,\n",
    "        eos_token_id=model.config.eos_token_id,\n",
    "    )\n",
    "# Đưa input vào mô hình và lấy output\n",
    "response = tokenizer.decode(outputs[0][inputs.input_ids.shape[1]:], skip_special_tokens=True)\n",
    "print(\"\\nAnswer:\\n\", response)\n"
   ]
  }
 ],
 "metadata": {
  "kernelspec": {
   "display_name": "Python 3 (ipykernel)",
   "language": "python",
   "name": "python3"
  },
  "language_info": {
   "codemirror_mode": {
    "name": "ipython",
    "version": 3
   },
   "file_extension": ".py",
   "mimetype": "text/x-python",
   "name": "python",
   "nbconvert_exporter": "python",
   "pygments_lexer": "ipython3",
   "version": "3.12.4"
  }
 },
 "nbformat": 4,
 "nbformat_minor": 5
}
