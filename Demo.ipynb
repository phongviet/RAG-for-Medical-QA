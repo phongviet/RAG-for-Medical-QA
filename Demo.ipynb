{
 "cells": [
  {
   "cell_type": "code",
   "id": "initial_id",
   "metadata": {
    "collapsed": true,
    "jupyter": {
     "outputs_hidden": true
    },
    "ExecuteTime": {
     "end_time": "2025-06-10T15:59:42.926242Z",
     "start_time": "2025-06-10T15:59:42.919845Z"
    }
   },
   "source": [
    "# Import các thư viện\n",
    "import os\n",
    "import json\n",
    "import faiss\n",
    "import torch\n",
    "import re\n",
    "from sentence_transformers import SentenceTransformer\n",
    "from transformers import AutoModelForCausalLM, AutoTokenizer\n"
   ],
   "outputs": [],
   "execution_count": 11
  },
  {
   "cell_type": "code",
   "id": "c29b5024ddebc4a",
   "metadata": {
    "ExecuteTime": {
     "end_time": "2025-06-10T15:59:48.479040Z",
     "start_time": "2025-06-10T15:59:43.023872Z"
    }
   },
   "source": [
    "index_dir = \"data/faiss_index\"\n",
    "\n",
    "# Load mapping và documents\n",
    "with open(os.path.join(index_dir, \"documents.json\"), \"r\") as f:\n",
    "    documents = json.load(f)\n",
    "with open(os.path.join(index_dir, \"qa_mapping.json\"), \"r\") as f:\n",
    "    qa_mapping = json.load(f)\n",
    "\n",
    "# Load FAISS index\n",
    "index = faiss.read_index(os.path.join(index_dir, \"qa_index.faiss\"))\n",
    "print(f\"Loaded FAISS index with {index.ntotal} vectors\")\n",
    "\n",
    "# Load encoder và LLM\n",
    "encoder_name = \"all-MiniLM-L6-v2\"\n",
    "model_name = \"Qwen/Qwen2.5-0.5B-Instruct\"\n",
    "encoder = SentenceTransformer(encoder_name)\n",
    "tokenizer = AutoTokenizer.from_pretrained(model_name)\n",
    "model = AutoModelForCausalLM.from_pretrained(\n",
    "    model_name,\n",
    "    torch_dtype=torch.float16,\n",
    "    device_map=\"auto\"\n",
    ")\n",
    "\n",
    "def adjust_sentence(text):\n",
    "    # Tách câu\n",
    "    sentences = re.split(r'(?<=[.!?])\\s+', text.strip())\n",
    "\n",
    "    if sentences and not re.search(r'[.!?]$', sentences[-1]):\n",
    "        sentences = sentences[:-1]\n",
    "    # Ghép lại\n",
    "    result = ' '.join(sentences)\n",
    "    # Thêm câu khuyến nghị\n",
    "    if result:\n",
    "        result = result.rstrip('.') + '.'\n",
    "        result += \"\\nPlease consult with a qualified healthcare professional for accurate diagnosis and personalized medical advice.\"\n",
    "    return result\n",
    "\n"
   ],
   "outputs": [
    {
     "name": "stdout",
     "output_type": "stream",
     "text": [
      "Loaded FAISS index with 16402 vectors\n"
     ]
    }
   ],
   "execution_count": 12
  },
  {
   "cell_type": "code",
   "id": "3dbda35b5046f55d",
   "metadata": {
    "ExecuteTime": {
     "end_time": "2025-06-10T16:01:59.160240Z",
     "start_time": "2025-06-10T16:01:56.903471Z"
    }
   },
   "source": [
    "query = input(\"Enter your medical question: \")\n",
    "query"
   ],
   "outputs": [
    {
     "data": {
      "text/plain": [
       "'How many people are affected by familial pityriasis rubra pilaris ?'"
      ]
     },
     "execution_count": 23,
     "metadata": {},
     "output_type": "execute_result"
    }
   ],
   "execution_count": 23
  },
  {
   "cell_type": "code",
   "id": "e647b8d918191ebb",
   "metadata": {
    "ExecuteTime": {
     "end_time": "2025-06-10T16:02:00.925104Z",
     "start_time": "2025-06-10T16:02:00.902961Z"
    }
   },
   "source": [
    "# Mã hóa câu hỏi thành vector\n",
    "query_embedding = encoder.encode([query], convert_to_tensor=True)\n",
    "query_embedding_np = query_embedding.cpu().numpy()\n",
    "query_embedding_np.shape"
   ],
   "outputs": [
    {
     "data": {
      "text/plain": [
       "(1, 384)"
      ]
     },
     "execution_count": 24,
     "metadata": {},
     "output_type": "execute_result"
    }
   ],
   "execution_count": 24
  },
  {
   "cell_type": "code",
   "id": "4ac771bbacb4264b",
   "metadata": {
    "ExecuteTime": {
     "end_time": "2025-06-10T16:02:01.562860Z",
     "start_time": "2025-06-10T16:02:01.548440Z"
    }
   },
   "source": [
    "# Tìm kiếm trong Database k vector câu hỏi có Euclid-Distance gần nhất với vector câu hỏi từ người dùng.\n",
    "top_k = 3\n",
    "distances, indices = index.search(query_embedding_np, top_k)\n",
    "print(\"Index các câu hỏi gần nhất:\", indices[0])\n",
    "print(\"Khoảng cách tương ứng:\", distances[0])"
   ],
   "outputs": [
    {
     "name": "stdout",
     "output_type": "stream",
     "text": [
      "Index các câu hỏi gần nhất: [7894 7896 7897]\n",
      "Khoảng cách tương ứng: [0.42799622 0.5069239  0.5553884 ]\n"
     ]
    }
   ],
   "execution_count": 25
  },
  {
   "cell_type": "code",
   "id": "ac34cc5d-ff86-49f9-96d9-78ab9264fa44",
   "metadata": {
    "ExecuteTime": {
     "end_time": "2025-06-10T16:02:02.958266Z",
     "start_time": "2025-06-10T16:02:02.950563Z"
    }
   },
   "source": [
    "#Ánh xạ k câu hỏi tới k tài liệu tương ứng\n",
    "retrieved_docs = [documents[idx] for idx in indices[0]]\n",
    "retrieved_answers = [qa_mapping[idx][\"completion\"] for idx in indices[0]]\n",
    "retrieved_info = list(zip(retrieved_docs, distances[0], retrieved_answers))\n",
    "\n",
    "print(\"Retrieved Information:\")\n",
    "for i, (doc, dist, ans) in enumerate(retrieved_info):\n",
    "    print(f\"Reference {i + 1}:\\n{doc}\\n\\nAnswer: {ans[:90]}...\\n\")"
   ],
   "outputs": [
    {
     "name": "stdout",
     "output_type": "stream",
     "text": [
      "Retrieved Information:\n",
      "Reference 1:\n",
      "Topic: familial pityriasis rubra pilaris\n",
      "\n",
      "Question: How many people are affected by familial pityriasis rubra pilaris ?\n",
      "\n",
      "Answer: Familial pityriasis rubra pilaris is a rare condition. Its incidence is unknown, although ...\n",
      "\n",
      "Reference 2:\n",
      "Topic: familial pityriasis rubra pilaris\n",
      "\n",
      "Question: Is familial pityriasis rubra pilaris inherited ?\n",
      "\n",
      "Answer: Familial pityriasis rubra pilaris usually has an autosomal dominant inheritance pattern, w...\n",
      "\n",
      "Reference 3:\n",
      "Topic: familial pityriasis rubra pilaris\n",
      "\n",
      "Question: What are the treatments for familial pityriasis rubra pilaris ?\n",
      "\n",
      "Answer: These resources address the diagnosis or management of familial pityriasis rubra pilaris: ...\n",
      "\n"
     ]
    }
   ],
   "execution_count": 26
  },
  {
   "cell_type": "code",
   "id": "5411bc1ca5882dfe",
   "metadata": {
    "ExecuteTime": {
     "end_time": "2025-06-10T16:02:04.633367Z",
     "start_time": "2025-06-10T16:02:04.624206Z"
    }
   },
   "source": [
    "#Tạo prompt\n",
    "context_parts = []\n",
    "for i, (doc, dist, ans) in enumerate(retrieved_info):\n",
    "    topic_part = doc.split(\"\\n\\n\")[0].replace(\"Topic: \", \"\")\n",
    "    context_parts.append(f\"Reference {i + 1} on {topic_part}:\\n{ans}\")\n",
    "\n",
    "context_str = \"\\n\\n\".join(context_parts)\n",
    "messages = [\n",
    "    {\n",
    "        \"role\": \"system\",\n",
    "        \"content\": f\"\"\"You are a medical assistant. Answer the user's question using ONLY the exact information from the provided references. Do not paraphrase, summarize, or add any explanations or examples that are not in the references. If you cannot find the exact words or phrases in the references, do not answer.\n",
    "\n",
    "References:\n",
    "{context_str}\n",
    "\n",
    "Instructions:\n",
    "1. Use only the exact words and phrases from the references.\n",
    "2. Do not add any explanations or examples.\n",
    "3. Do not mention the references explicitly.\n",
    "4. If you finish answering, stop immediately.\n",
    "\"\"\"\n",
    "    },\n",
    "    {\n",
    "        \"role\": \"user\",\n",
    "        \"content\": f\"{query}\"\n",
    "    }\n",
    "]\n",
    "\n",
    "messages"
   ],
   "outputs": [
    {
     "data": {
      "text/plain": [
       "[{'role': 'system',\n",
       "  'content': \"You are a medical assistant. Answer the user's question using ONLY the exact information from the provided references. Do not paraphrase, summarize, or add any explanations or examples that are not in the references. If you cannot find the exact words or phrases in the references, do not answer.\\n\\nReferences:\\nReference 1 on familial pityriasis rubra pilaris:\\nFamilial pityriasis rubra pilaris is a rare condition. Its incidence is unknown, although the familial form appears to be the least common type of pityriasis rubra pilaris.\\n\\nReference 2 on familial pityriasis rubra pilaris:\\nFamilial pityriasis rubra pilaris usually has an autosomal dominant inheritance pattern, which means one copy of the altered gene in each cell is sufficient to cause the disorder. Affected individuals usually inherit the condition from one affected parent. However, the condition is said to have incomplete penetrance because not everyone who inherits the altered gene from a parent develops the condition's characteristic skin abnormalities.  The other types of pityriasis rubra pilaris are sporadic, which means they occur in people with no history of the disorder in their family.\\n\\nReference 3 on familial pityriasis rubra pilaris:\\nThese resources address the diagnosis or management of familial pityriasis rubra pilaris:  - Genetic Testing Registry: Pityriasis rubra pilaris   These resources from MedlinePlus offer information about the diagnosis and management of various health conditions:  - Diagnostic Tests  - Drug Therapy  - Surgery and Rehabilitation  - Genetic Counseling   - Palliative Care\\n\\nInstructions:\\n1. Use only the exact words and phrases from the references.\\n2. Do not add any explanations or examples.\\n3. Do not mention the references explicitly.\\n4. If you finish answering, stop immediately.\\n\"},\n",
       " {'role': 'user',\n",
       "  'content': 'How many people are affected by familial pityriasis rubra pilaris ?'}]"
      ]
     },
     "execution_count": 27,
     "metadata": {},
     "output_type": "execute_result"
    }
   ],
   "execution_count": 27
  },
  {
   "cell_type": "code",
   "id": "df6e1a7c2d31e2b4",
   "metadata": {
    "ExecuteTime": {
     "end_time": "2025-06-10T16:02:06.450417Z",
     "start_time": "2025-06-10T16:02:06.437691Z"
    }
   },
   "source": [
    "#Tokenize prompt\n",
    "input_ids = tokenizer.apply_chat_template(\n",
    "    messages,\n",
    "    return_tensors=\"pt\",\n",
    "    add_generation_prompt=True\n",
    ").to(model.device)\n",
    "input_ids.shape"
   ],
   "outputs": [
    {
     "data": {
      "text/plain": [
       "torch.Size([1, 405])"
      ]
     },
     "execution_count": 28,
     "metadata": {},
     "output_type": "execute_result"
    }
   ],
   "execution_count": 28
  },
  {
   "cell_type": "code",
   "id": "7be6bb569e2a66b2",
   "metadata": {
    "ExecuteTime": {
     "end_time": "2025-06-10T16:02:11.248289Z",
     "start_time": "2025-06-10T16:02:07.858585Z"
    }
   },
   "source": [
    "with torch.no_grad():\n",
    "    outputs = model.generate(\n",
    "        input_ids = input_ids,\n",
    "        max_new_tokens=512,\n",
    "        temperature=0.1,\n",
    "        do_sample=True,\n",
    "        top_p=0.6,\n",
    "        num_return_sequences=1,\n",
    "        eos_token_id=model.config.eos_token_id,\n",
    "    )\n",
    "# Đưa input vào mô hình và lấy output\n",
    "response = tokenizer.decode(outputs[0][input_ids.shape[1]:], skip_special_tokens=True)\n",
    "response = adjust_sentence(response)\n",
    "print(\"Answer:\\n\", response)\n"
   ],
   "outputs": [
    {
     "name": "stdout",
     "output_type": "stream",
     "text": [
      "Answer:\n",
      " The number of people affected by familial pityriasis rubra pilaris is unknown, but it is described as being the least common type of pityriasis rubra pilaris.\n",
      "Please consult with a qualified healthcare professional for accurate diagnosis and personalized medical advice.\n"
     ]
    }
   ],
   "execution_count": 29
  },
  {
   "metadata": {
    "ExecuteTime": {
     "end_time": "2025-06-10T15:03:10.300178Z",
     "start_time": "2025-06-10T15:02:27.581252Z"
    }
   },
   "cell_type": "code",
   "source": [
    "#Compare with chatbot without context\n",
    "from transformers import AutoModelForCausalLM, AutoTokenizer\n",
    "\n",
    "model_name = \"Qwen/Qwen2.5-0.5B-Instruct\"\n",
    "tokenizer = AutoTokenizer.from_pretrained(model_name)\n",
    "model2 = AutoModelForCausalLM.from_pretrained(\n",
    "    model_name,\n",
    "    torch_dtype=torch.float16,\n",
    "    device_map=\"auto\"\n",
    ")\n",
    "\n",
    "# Nhập câu hỏi\n",
    "query = input(\"Enter your medical question: \")\n",
    "\n",
    "prompt = f\"\"\"You are a highly knowledgeable medical assistant providing accurate and professional information to healthcare professionals.\n",
    "Question: {query}\n",
    "\n",
    "Instructions:\n",
    "1. Provide a clear, concise, and well-organized medical answer.\n",
    "2. Use appropriate medical terminology and maintain a professional tone.\n",
    "3. Do not include any citation numbers, references, or footnote markers (e.g., [1], [2], etc.) under any circumstances.\n",
    "4. Do not mention the references explicitly in your answer.\n",
    "\n",
    "\n",
    "Answer:\"\"\"\n",
    "\n",
    "# Tokenize và đưa vào model\n",
    "inputs = tokenizer(prompt, return_tensors=\"pt\").to(model2.device)\n",
    "\n",
    "with torch.no_grad():\n",
    "    outputs = model2.generate(\n",
    "        **inputs,\n",
    "        max_new_tokens=512,\n",
    "        temperature=0.1,\n",
    "        do_sample=True,\n",
    "        top_p=0.6,\n",
    "        num_return_sequences=1,\n",
    "        eos_token_id=model2.config.eos_token_id,\n",
    "    )\n",
    "\n",
    "# Detokenize và in kết quả\n",
    "response = tokenizer.decode(outputs[0][inputs.input_ids.shape[1]:], skip_special_tokens=True)\n",
    "response = adjust_sentence(response)\n",
    "print(\"\\nAnswer (Without RAG):\\n\", response)\n"
   ],
   "id": "2f985115f57912af",
   "outputs": [
    {
     "name": "stdout",
     "output_type": "stream",
     "text": [
      "\n",
      "Answer (Without RAG):\n",
      " Adenylosuccinase deficiency is an inherited metabolic disorder that affects the body's ability to break down certain amino acids into their constituent parts. The primary symptoms of this condition typically manifest as muscle weakness, fatigue, and other neurological symptoms such as tremors, difficulty with coordination, and balance issues. Treatment options for adenylosuccinase deficiency depend on the specific genetic mutation causing the disorder and may involve:\n",
      "\n",
      "1. Gene therapy: In some cases, gene therapy can be used to correct the underlying genetic defect responsible for the disease. This involves introducing healthy copies of the defective gene back into the patient's cells through a process called viral vector delivery. 2. Hormone replacement therapy: For patients who have been diagnosed with adenylosuccinase deficiency due to a hormonal imbalance, hormone replacement therapy may be necessary to restore normal levels of hormones like cortisol and aldosterone. 3. Dietary modifications: Patients with adenylosuccinase deficiency may need to follow a low-protein diet to prevent kidney damage from excessive protein consumption. 4. Blood transfusions: In severe cases where the patient's kidneys cannot compensate for the lack of adenylosuccinase, blood transfusions may be required to provide essential nutrients and oxygen to the body. 5. Supportive care: Managing symptoms and complications associated with adenylosuccinase deficiency, including seizures, respiratory distress, and heart failure, may require specialized medical interventions. 6. Genetic counseling: Given the potential impact on family health, genetic counselors may offer guidance on managing the condition and preventing future generations from inheriting the disorder. It is important to note that while these treatment options exist, they are not always effective or suitable for all patients with adenylosuccinase deficiency. Additionally, early diagnosis and intervention can help minimize the severity and duration of symptoms, which can improve quality of life and reduce the risk of complications. Regular monitoring and evaluation by a multidisciplinary team of healthcare providers are crucial in managing the condition effectively. References:\n",
      "[1] National Institutes of Health. (2021). Adenylosuccinase Deficiency. Retrieved from https://www.niddk.nih.gov/health-information/diseases/adenylosuccinase-deficiency\n",
      "\n",
      "[2] American Academy of Family Physicians. (2021). Adenylosuccinase Deficiency.\n",
      "Please consult with a qualified healthcare professional for accurate diagnosis and personalized medical advice.\n"
     ]
    }
   ],
   "execution_count": 40
  }
 ],
 "metadata": {
  "kernelspec": {
   "display_name": "Python 3 (ipykernel)",
   "language": "python",
   "name": "python3"
  },
  "language_info": {
   "codemirror_mode": {
    "name": "ipython",
    "version": 3
   },
   "file_extension": ".py",
   "mimetype": "text/x-python",
   "name": "python",
   "nbconvert_exporter": "python",
   "pygments_lexer": "ipython3",
   "version": "3.12.4"
  }
 },
 "nbformat": 4,
 "nbformat_minor": 5
}
